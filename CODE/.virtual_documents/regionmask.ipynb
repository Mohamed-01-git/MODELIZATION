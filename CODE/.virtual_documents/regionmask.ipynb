


import matplotlib.pyplot as plt
import numpy as np
import xarray as xr
import regionmask

import cartopy.crs as ccrs



def sample_data(shape=(73, 145)):
    """Returns ``lons``, ``lats`` and ``data`` of some fake data."""
    nlats, nlons = shape
    lats1 = np.linspace(-np.pi / 2, np.pi / 2, nlats)
    lons1 = np.linspace(0, 2 * np.pi, nlons)[0:-1]
    lons, lats = np.meshgrid(lons1, lats1)
    wave = 0.75 * (np.sin(3 * lats) ** 8) * np.cos(4 * lons)
    mean = 0.5 * np.cos(2 * lats) * ((np.sin(2 * lats)) ** 2 + 2)

    lats1 = np.rad2deg(lats1)
    lons1 = np.rad2deg(lons1)
    data = wave + mean

    return lons1, lats1, data


# plot some global sample data
x, y, Z = sample_data()

#X, Y = np.meshgrid(x, y)
#Z = f(X, Y)

da = xr.DataArray(Z, coords = {"lon":x, "lat":y}, dims=["lat", "lon"])

ax = plt.axes(projection=ccrs.PlateCarree())

ax.pcolormesh(da.lon, da.lat, da)
ax.coastlines()




# plot the AR6 regions 
mask = regionmask.defined_regions.ar6.land.mask(da, wrap_lon=True)
ax = plt.axes(projection=ccrs.PlateCarree())
low = mask.min()
high = mask.max()

levels = np.arange(low - 0.5, high + 1)

mask.plot.pcolormesh(ax=ax, transform=ccrs.PlateCarree(), levels=levels, add_colorbar=False)

ax.coastlines()


# find index of the Sahara region

sah_key = regionmask.defined_regions.ar6.all.map_keys('Sahara')
sah_key


# mask to this region
da_sah = da.where(mask == sah_key)
ax = plt.axes(projection=ccrs.PlateCarree())

ax.pcolormesh(da_sah.lon, da_sah.lat, da_sah)
ax.coastlines()





# plot countries
regionmask.defined_regions.natural_earth_v5_0_0.countries_110.plot(add_label=False)


countries = regionmask.defined_regions.natural_earth_v5_0_0.countries_110


eg_key = countries.map_keys('Egypt')
eg_key


# this doesn't work - the mask is a shape not a raster
#da_eg = da.where(countries == eg_key)
mask = countries.mask(x, y, wrap_lon=True)
da_eg = da.where(mask == eg_key)


ax = plt.axes(projection=ccrs.PlateCarree())

ax.pcolormesh(da_eg.lon, da_eg.lat, da_eg)
ax.coastlines()


# Now multiple countries
NA_country_names = ['Algeria','Egypt','Libya','Mauritania','Morocco','Tunisia']
# make a list of indices for all these countries
na_indices =[countries.map_keys(name) for name in NA_country_names]
na_indices


da_na = da.where(np.isin(mask.data,na_indices))
ax = plt.axes(projection=ccrs.PlateCarree())

ax.pcolormesh(da_na.lon, da_na.lat, da_na)
ax.coastlines()
# zoom map in 
ax.set_extent([-20,40,12,35])



