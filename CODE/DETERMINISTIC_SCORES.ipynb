{
 "cells": [
  {
   "cell_type": "code",
   "execution_count": 1,
   "id": "2c2b2b76-94f6-431a-8021-02e16e3a65b8",
   "metadata": {},
   "outputs": [],
   "source": [
    "import os\n",
    "import calendar\n",
    "import xarray as xr\n",
    "import ipywidgets as widgets\n",
    "import matplotlib.pyplot as plt\n",
    "import cartopy.crs as ccrs\n",
    "import cartopy.feature as cfeature\n",
    "import numpy as np\n",
    "# widgets.IntSlider()\n",
    "# %matplotlib widget\n",
    "\n",
    "# Configure the path and settings\n",
    "DATAIN =\"/home/mohamed/EHTPIII/MODELISATION/input/DATASETS\"\n",
    "DATAOUT=\"/home/mohamed/EHTPIII/MODELISATION/output\"\n",
    "SCOREDIR = DATAOUT + '/SF/scores'\n",
    "config = dict(\n",
    "    list_vars = ['2m_temperature', ],\n",
    "    hcstarty = 1993,\n",
    "    hcendy = 2016,\n",
    "    start_month = 11,\n",
    ")\n",
    "\n",
    "details=\"_1993-2016_monthly_mean_11_234_45_-30_-2.5_60\"\n",
    "\n",
    "available_files=[\"ukmo_602\",\"meteo_france_8\",\"ecmwf_51\",\"eccc_3\",\"eccc_2\",\"dwd_21\",\"cmcc_35\"]\n",
    "\n",
    "\n",
    "VARNAMES = {'t2m': '2-metre temperature'}"
   ]
  },
  {
   "cell_type": "code",
   "execution_count": 3,
   "id": "6e60a247-0229-4e55-8c4a-89390815f832",
   "metadata": {},
   "outputs": [
    {
     "data": {
      "application/vnd.jupyter.widget-view+json": {
       "model_id": "8944a8c042034039882f2f178139ce0c",
       "version_major": 2,
       "version_minor": 0
      },
      "text/plain": [
       "interactive(children=(Dropdown(description='CENTER', options=('ukmo_602', 'meteo_france_8', 'ecmwf_51', 'eccc_…"
      ]
     },
     "execution_count": 3,
     "metadata": {},
     "output_type": "execute_result"
    }
   ],
   "source": [
    "\n",
    "# Create dropdown widget for file selection\n",
    "file_dropdown = widgets.Dropdown(\n",
    "    options=available_files,\n",
    "    description='CENTER'\n",
    ")\n",
    "\n",
    "# Load the datasets based on selected file and aggregation\n",
    "def load_data(file_name, aggr,metric):\n",
    "    file_link=f'{SCOREDIR}/{file_name}{details}.{aggr}.{metric}.nc'\n",
    "    corr = xr.open_dataset(file_link)\n",
    "    corr = corr.assign_coords(lon=(((corr.lon + 180) % 360) - 180)).sortby('lon')\n",
    "    return corr\n",
    "# Define the plot function\n",
    "metrics=[\"corr\",\"rsquared\",\"rmse\"]\n",
    "def plot_corr(file_name, aggr, fcmonth,metric):\n",
    "    origin_labels = {'institution': f'{file_name}'\n",
    "                     ,'metric':f'{metric}'}\n",
    "    METR = load_data(file_name, aggr,metric)\n",
    "    tit_line1='{metric}---'.format(**origin_labels).upper()+\" FOR \"+file_name.upper()        \n",
    "    tit_line2_base = f'Start month: {calendar.month_abbr[config[\"start_month\"]].upper()}'\n",
    "    if aggr == '1m':\n",
    "        validmonth = config['start_month'] + (fcmonth - 1)\n",
    "        validmonth = validmonth if validmonth <= 12 else validmonth - 12\n",
    "        tit_line2 = tit_line2_base + f' - Valid month: {calendar.month_abbr[validmonth].upper()}'\n",
    "    elif aggr == '3m':\n",
    "        validmonths = [calendar.month_abbr[(config['start_month'] + (fcmonth - 1) - shift) % 12] for shift in range(3)]\n",
    "        tit_line2 = tit_line2_base + f' - Valid months: {\" \".join(reversed(validmonths))}'\n",
    "    else:\n",
    "        raise ValueError(f'Unexpected aggregation {aggr}')\n",
    "\n",
    "    # Select data for the chosen forecast month\n",
    "    THISMETR = METR.sel(forecastMonth=fcmonth)\n",
    "\n",
    "    for var in THISMETR.data_vars:\n",
    "        fig = plt.figure(figsize=(18, 10))\n",
    "        ax = plt.axes(projection=ccrs.PlateCarree())\n",
    "        ax.add_feature(cfeature.BORDERS, edgecolor='black', linewidth=0.5)\n",
    "        ax.add_feature(cfeature.COASTLINE, edgecolor='black', linewidth=2.0)\n",
    "        METRVALUES = THISMETR[var].values\n",
    "\n",
    "        if METRVALUES.T.shape == (THISMETR[var].lat.size, THISMETR[var].lon.size):\n",
    "            METRVALUES = METRVALUES.T\n",
    "\n",
    "        plt.contourf(\n",
    "            THISMETR[var].lon, THISMETR[var].lat, METRVALUES,\n",
    "            levels=np.linspace(np.nanmin(METRVALUES), np.nanmax(METRVALUES), 30),\n",
    "            cmap='RdYlBu_r'\n",
    "        )\n",
    "        cb = plt.colorbar(shrink=0.5)\n",
    "        cb.ax.set_ylabel(metric.upper(), fontsize=12)\n",
    "        origylim = ax.get_ylim()\n",
    "        if ax.get_ylim() != origylim:\n",
    "            ax.set_ylim(origylim)\n",
    "\n",
    "        plt.title(f\"{tit_line1} {VARNAMES[var]} (stippling where significance below 95%)\\n{tit_line2}\", loc='left')\n",
    "        plt.tight_layout()\n",
    "        plt.show()\n",
    "\n",
    "# Create interactive widgets for `aggr`, `fcmonth`, and file selection\n",
    "aggr_dropdown = widgets.Dropdown(options=['1m', '3m'], value='1m', description='Aggregation:')\n",
    "fcmonth_slider = widgets.IntSlider(value=4, min=2, max=4, step=1, description='Forecast Month:')\n",
    "metric_droptown=widgets.Dropdown(options=metrics,value=\"corr\",description=\"Metric\")\n",
    "# Display the interactive plot\n",
    "widgets.interactive(plot_corr, metric=metric_droptown,file_name=file_dropdown, aggr=aggr_dropdown, fcmonth=fcmonth_slider)"
   ]
  }
 ],
 "metadata": {
  "kernelspec": {
   "display_name": "MODEL",
   "language": "python",
   "name": "model"
  },
  "language_info": {
   "codemirror_mode": {
    "name": "ipython",
    "version": 3
   },
   "file_extension": ".py",
   "mimetype": "text/x-python",
   "name": "python",
   "nbconvert_exporter": "python",
   "pygments_lexer": "ipython3",
   "version": "3.12.3"
  }
 },
 "nbformat": 4,
 "nbformat_minor": 5
}
